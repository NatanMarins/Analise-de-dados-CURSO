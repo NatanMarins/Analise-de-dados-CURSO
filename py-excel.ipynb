{
 "cells": [
  {
   "cell_type": "markdown",
   "metadata": {},
   "source": [
    "Com Pandas"
   ]
  },
  {
   "cell_type": "code",
   "execution_count": null,
   "metadata": {},
   "outputs": [],
   "source": [
    "# Pandas\n",
    "\n",
    "import pandas as pd\n",
    "\n",
    "tabela = pd.read_excel(\"Produtos.xlsx\")\n",
    "\n",
    "display(tabela)"
   ]
  },
  {
   "cell_type": "code",
   "execution_count": null,
   "metadata": {},
   "outputs": [],
   "source": [
    "# atualizar o multiplicador\n",
    "tabela.loc[tabela[\"Tipo\"] == \"Serviço\", \"Multiplicador Imposto\"] = 1.5\n",
    "\n",
    "# fazendo calculo\n",
    "\n",
    "tabela[\"Preço Base Reais\"] = tabela[\"Multiplicador Imposto\"] * tabela[\"Preço Base Original\"]\n",
    "\n",
    "tabela.to_excel(\"ProdutosPandas.xlsx\")\n",
    "\n",
    "display(tabela)"
   ]
  },
  {
   "cell_type": "markdown",
   "metadata": {},
   "source": [
    "Com Openpyxl"
   ]
  },
  {
   "cell_type": "code",
   "execution_count": null,
   "metadata": {},
   "outputs": [],
   "source": [
    "# Openpyxl\n",
    "\n",
    "from openpyxl import Workbook, load_workbook\n",
    "\n",
    "planilha = load_workbook(\"Produtos.xlsx\")\n",
    "\n",
    "aba_ativa = planilha.active\n",
    "\n",
    "for celula in aba_ativa[\"C\"]:\n",
    "    if celula.value == \"Serviço\":\n",
    "        linha = celula.row\n",
    "        aba_ativa[f\"D{linha}\"] = 1.5\n",
    "        \n",
    "planilha.save(\"ProdutosOpenpy.xlsx\")"
   ]
  }
 ],
 "metadata": {
  "kernelspec": {
   "display_name": "Python 3.10.5 64-bit",
   "language": "python",
   "name": "python3"
  },
  "language_info": {
   "codemirror_mode": {
    "name": "ipython",
    "version": 3
   },
   "file_extension": ".py",
   "mimetype": "text/x-python",
   "name": "python",
   "nbconvert_exporter": "python",
   "pygments_lexer": "ipython3",
   "version": "3.10.5"
  },
  "orig_nbformat": 4,
  "vscode": {
   "interpreter": {
    "hash": "3adffc14717c77f806e1f7b1b4a3821d5acdcf53694294b2e976d830ba088ed7"
   }
  }
 },
 "nbformat": 4,
 "nbformat_minor": 2
}
