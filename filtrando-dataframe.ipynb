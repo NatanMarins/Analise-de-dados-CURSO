{
 "cells": [
  {
   "cell_type": "code",
   "execution_count": null,
   "id": "8c5ad9fb",
   "metadata": {},
   "outputs": [],
   "source": [
    "import pandas as pd\n",
    "\n",
    "# Lendo arquivos\n",
    "vendas_df = pd.read_csv('Contoso - Vendas  - 2017.csv', sep=';')\n",
    "produtos_df = pd.read_csv('Contoso - Cadastro Produtos.csv', sep=';')\n",
    "lojas_df = pd.read_csv('Contoso - Lojas.csv', sep=';')\n",
    "clientes_df = pd.read_csv('Contoso - Clientes.csv', sep=';')\n",
    "\n",
    "# Excluindo colunas (axis = 1)\n",
    "clientes_df = clientes_df.drop(['Unnamed: 7', 'Unnamed: 8', 'Unnamed: 9', 'Unnamed: 10'], axis=1)\n",
    "\n",
    "# Escolhendo colunas\n",
    "clientes_df = clientes_df[['ID Cliente', 'E-mail']]\n",
    "produtos_df = produtos_df[['ID Produto', 'Nome do Produto']]\n",
    "lojas_df = lojas_df[['ID Loja', 'Nome da Loja']]\n",
    "\n",
    "# Mesclando Dataframe\n",
    "vendas_df = vendas_df.merge(produtos_df, on='ID Produto')\n",
    "vendas_df = vendas_df.merge(lojas_df, on='ID Loja')\n",
    "vendas_df = vendas_df.merge(clientes_df, on='ID Cliente')\n",
    "\n",
    "# Renomeando colunas\n",
    "vendas_df = vendas_df.rename(columns={'E-mail': 'E-mail do Cliente'})\n",
    "## DATAFRAME organizado\n",
    "\n",
    "# Mostrando arquivos\n",
    "display(vendas_df)"
   ]
  },
  {
   "cell_type": "code",
   "execution_count": null,
   "id": "3a747634",
   "metadata": {},
   "outputs": [],
   "source": [
    "# Porcentagem de devolução \n",
    "qtde_vendida = vendas_df['Quantidade Vendida'].sum()\n",
    "qtde_devolvida = vendas_df['Quantidade Devolvida'].sum()\n",
    "\n",
    "print('{:.2%}'.format(qtde_devolvida/qtde_vendida))"
   ]
  },
  {
   "cell_type": "code",
   "execution_count": null,
   "id": "ed61b67a",
   "metadata": {},
   "outputs": [],
   "source": [
    "# Filtrando uma única loja\n",
    "'''vendas_lojaCEO = vendas_df[vendas_df['ID Loja'] == 306]'''\n",
    "# Outra forma de fazer\n",
    "loja306 = vendas_df['ID Loja'] == 306\n",
    "vendas_lojaCEO = vendas_df[loja306]\n",
    "\n",
    "display(vendas_lojaCEO)"
   ]
  },
  {
   "cell_type": "code",
   "execution_count": null,
   "id": "2c57df74",
   "metadata": {},
   "outputs": [],
   "source": [
    "# Porcentagem de devolução loja filtrada\n",
    "qtde_vendida_lCEO = vendas_lojaCEO['Quantidade Vendida'].sum()\n",
    "qtde_devolvida_lCEO = vendas_lojaCEO['Quantidade Devolvida'].sum()\n",
    "\n",
    "print('{:.2%}'.format(qtde_devolvida_lCEO/qtde_vendida_lCEO))"
   ]
  },
  {
   "cell_type": "markdown",
   "id": "3d41655b",
   "metadata": {},
   "source": [
    "Desafio: e se eu quiser criar uma tabela apenas com as vendas da Loja Contoso Europe Online e que não tiveram nenhuma devolução. Quero criar essa tabela e saver quantas vendas são."
   ]
  },
  {
   "cell_type": "code",
   "execution_count": null,
   "id": "43e0cdc6",
   "metadata": {},
   "outputs": [],
   "source": [
    "# Comparando tudo junto\n",
    "df_loja306semdev = vendas_df[(vendas_df['ID Loja'] == 306) & (vendas_df['Quantidade Devolvida'] == 0)]\n",
    "display(df_loja306semdev)\n",
    "\n",
    "# Comparando separadamente\n",
    "loja306 = vendas_df['ID Loja'] == 306\n",
    "qtde_devolvida_0 = vendas_df['Quantidade Devolvida'] == 0\n",
    "\n",
    "df2_loja306semdev = vendas_df[loja306 & qtde_devolvida_0]\n",
    "display(df2_loja306semdev)\n"
   ]
  }
 ],
 "metadata": {
  "kernelspec": {
   "display_name": "Python 3.10.2 64-bit",
   "language": "python",
   "name": "python3"
  },
  "language_info": {
   "codemirror_mode": {
    "name": "ipython",
    "version": 3
   },
   "file_extension": ".py",
   "mimetype": "text/x-python",
   "name": "python",
   "nbconvert_exporter": "python",
   "pygments_lexer": "ipython3",
   "version": "3.10.2"
  },
  "vscode": {
   "interpreter": {
    "hash": "3adffc14717c77f806e1f7b1b4a3821d5acdcf53694294b2e976d830ba088ed7"
   }
  }
 },
 "nbformat": 4,
 "nbformat_minor": 5
}
