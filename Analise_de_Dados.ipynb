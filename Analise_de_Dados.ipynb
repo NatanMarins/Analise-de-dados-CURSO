{
  "nbformat": 4,
  "nbformat_minor": 0,
  "metadata": {
    "colab": {
      "name": "Analise de Dados.ipynb",
      "provenance": [],
      "collapsed_sections": [],
      "authorship_tag": "ABX9TyOxel+CgQOxdTF4mqI/LycE",
      "include_colab_link": true
    },
    "kernelspec": {
      "name": "python3",
      "display_name": "Python 3"
    }
  },
  "cells": [
    {
      "cell_type": "markdown",
      "metadata": {
        "id": "view-in-github",
        "colab_type": "text"
      },
      "source": [
        "<a href=\"https://colab.research.google.com/github/NatanMarins/Analise-de-dados-CURSO/blob/main/Analise_de_Dados.ipynb\" target=\"_parent\"><img src=\"https://colab.research.google.com/assets/colab-badge.svg\" alt=\"Open In Colab\"/></a>"
      ]
    },
    {
      "cell_type": "code",
      "metadata": {
        "id": "0thRKQ3pKacI"
      },
      "source": [
        "import pandas as pd\n",
        "\n",
        "vendas_df = pd.read_csv('Contoso - Vendas  - 2017.csv', sep=';')\n",
        "produtos_df = pd.read_csv('Contoso - Cadastro Produtos (1).csv', sep=';')\n",
        "clientes_df = pd.read_csv('Contoso - Clientes.csv', sep=';')\n",
        "lojas_df = pd.read_csv('Contoso - Lojas.csv', sep=';')\n",
        "\n",
        "display(vendas_df)\n",
        "display(produtos_df)\n",
        "display(clientes_df)\n",
        "display(lojas_df)"
      ],
      "execution_count": null,
      "outputs": []
    }
  ]
}