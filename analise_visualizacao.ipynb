{
 "cells": [
  {
   "cell_type": "code",
   "execution_count": null,
   "id": "8c5ad9fb",
   "metadata": {},
   "outputs": [],
   "source": [
    "import pandas as pd\n",
    "\n",
    "# Lendo arquivos\n",
    "vendas_df = pd.read_csv('Contoso - Vendas  - 2017.csv', sep=';')\n",
    "produtos_df = pd.read_csv('Contoso - Cadastro Produtos.csv', sep=';')\n",
    "lojas_df = pd.read_csv('Contoso - Lojas.csv', sep=';')\n",
    "clientes_df = pd.read_csv('Contoso - Clientes.csv', sep=';')"
   ]
  },
  {
   "cell_type": "code",
   "execution_count": null,
   "id": "ffe3d4e1",
   "metadata": {},
   "outputs": [],
   "source": [
    "# Excluindo colunas (axis = 1)\n",
    "clientes_df = clientes_df.drop(['Unnamed: 7', 'Unnamed: 8', 'Unnamed: 9', 'Unnamed: 10'], axis=1)"
   ]
  },
  {
   "cell_type": "code",
   "execution_count": null,
   "id": "c1b4c6c5",
   "metadata": {},
   "outputs": [],
   "source": [
    "# Escolhendo colunas\n",
    "clientes_df = clientes_df[['ID Cliente', 'E-mail']]\n",
    "produtos_df = produtos_df[['ID Produto', 'Nome do Produto']]\n",
    "lojas_df = lojas_df[['ID Loja', 'Nome da Loja']]"
   ]
  },
  {
   "cell_type": "code",
   "execution_count": null,
   "id": "6de055e6",
   "metadata": {},
   "outputs": [],
   "source": [
    "# Mesclando Dataframe\n",
    "vendas_df = vendas_df.merge(produtos_df, on='ID Produto')\n",
    "vendas_df = vendas_df.merge(lojas_df, on='ID Loja')\n",
    "vendas_df = vendas_df.merge(clientes_df, on='ID Cliente')"
   ]
  },
  {
   "cell_type": "code",
   "execution_count": null,
   "id": "33396082",
   "metadata": {},
   "outputs": [],
   "source": [
    "# Renomeando colunas\n",
    "vendas_df = vendas_df.rename(columns={'E-mail': 'E-mail do Cliente'})\n",
    "## DATAFRAME organizado\n",
    "\n",
    "# Mostrando arquivos\n",
    "display(vendas_df)"
   ]
  },
  {
   "cell_type": "code",
   "execution_count": null,
   "id": "727b36dc",
   "metadata": {},
   "outputs": [],
   "source": [
    "# Cliente que mais comprou\n",
    "frequencia_clientes = vendas_df['E-mail do Cliente'].value_counts()\n",
    "display(frequencia_clientes)"
   ]
  },
  {
   "cell_type": "code",
   "execution_count": null,
   "id": "8800e1c2",
   "metadata": {},
   "outputs": [],
   "source": [
    "# Exibindo dados em gráfico (5 primeiros)\n",
    "frequencia_clientes[:5].plot(figsize=(15, 5))"
   ]
  },
  {
   "cell_type": "code",
   "execution_count": null,
   "id": "86476784",
   "metadata": {},
   "outputs": [],
   "source": [
    "# Loja que mais vendeu\n",
    "vendas_lojas = vendas_df.groupby('Nome da Loja').sum()\n",
    "vendas_lojas = vendas_lojas[['Quantidade Vendida']]\n",
    "display(vendas_lojas)"
   ]
  },
  {
   "cell_type": "code",
   "execution_count": null,
   "id": "ef751795",
   "metadata": {},
   "outputs": [],
   "source": [
    "# Ordenar o dataframe\n",
    "vendas_lojas = vendas_lojas.sort_values('Quantidade Vendida', ascending = False)\n",
    "display(vendas_lojas)\n",
    "\n",
    "#plotar em gráfico\n",
    "vendas_lojas[:5].plot(figsize=(15, 5), kind = 'bar')"
   ]
  },
  {
   "cell_type": "code",
   "execution_count": null,
   "id": "e656c661",
   "metadata": {},
   "outputs": [],
   "source": [
    "#pegando o maior valor e seu índice\n",
    "maior_valor = vendas_lojas['Quantidade Vendida'].max()\n",
    "melhor_loja =  vendas_lojas['Quantidade Vendida'].idxmax()\n",
    "print(melhor_loja, maior_valor)"
   ]
  }
 ],
 "metadata": {
  "kernelspec": {
   "display_name": "Python 3.10.2 64-bit",
   "language": "python",
   "name": "python3"
  },
  "language_info": {
   "codemirror_mode": {
    "name": "ipython",
    "version": 3
   },
   "file_extension": ".py",
   "mimetype": "text/x-python",
   "name": "python",
   "nbconvert_exporter": "python",
   "pygments_lexer": "ipython3",
   "version": "3.10.2"
  },
  "vscode": {
   "interpreter": {
    "hash": "3adffc14717c77f806e1f7b1b4a3821d5acdcf53694294b2e976d830ba088ed7"
   }
  }
 },
 "nbformat": 4,
 "nbformat_minor": 5
}
