{
 "cells": [
  {
   "cell_type": "code",
   "execution_count": null,
   "metadata": {},
   "outputs": [],
   "source": [
    "import pandas as pd\n",
    "\n",
    "novos_produtos_df = pd.read_csv(r'Contoso - Cadastro Produtos.csv', sep=';')\n",
    "\n",
    "display(novos_produtos_df.head())"
   ]
  },
  {
   "cell_type": "code",
   "execution_count": null,
   "metadata": {},
   "outputs": [],
   "source": [
    "# Transformar o índice no nome do produto\n",
    "\n",
    "novos_produtos_df = novos_produtos_df.set_index('Nome do Produto')\n",
    "\n",
    "display(novos_produtos_df.head())"
   ]
  },
  {
   "cell_type": "code",
   "execution_count": null,
   "metadata": {},
   "outputs": [],
   "source": [
    "# Usando LOC\n",
    "print(novos_produtos_df.loc['Contoso Optical Wheel OEM PS/2 Mouse E60 Grey', 'Preco Unitario'])\n",
    "\n",
    "# Usando ILOC\n",
    "print(novos_produtos_df.iloc[2, 5])"
   ]
  },
  {
   "cell_type": "markdown",
   "metadata": {},
   "source": [
    "Fazendo o Exercício"
   ]
  },
  {
   "cell_type": "code",
   "execution_count": null,
   "metadata": {},
   "outputs": [],
   "source": [
    "# Alterar o valor do produto de id 873 p/23\n",
    "\n",
    "novos_produtos_df.loc['Contoso Wireless Laser Mouse E50 Grey', 'Preco Unitario'] = 23\n",
    "\n",
    "display(novos_produtos_df)"
   ]
  },
  {
   "cell_type": "markdown",
   "metadata": {},
   "source": [
    "Exportando Dataframe como csv"
   ]
  },
  {
   "cell_type": "code",
   "execution_count": null,
   "metadata": {},
   "outputs": [],
   "source": [
    "novos_produtos_df.to_csv('novos produtos.csv', sep=';')"
   ]
  },
  {
   "cell_type": "code",
   "execution_count": null,
   "metadata": {},
   "outputs": [],
   "source": [
    "# Transformando dicionario em Dataframe\n",
    "\n",
    "vendas_produtos = {'iphone' : [100022, 120], 'galaxy' : [100022, 120], 'tv' : [100022, 120], 'tv2' : [100022, 120], 'tv3' : [100022, 120], 'tv4' : [100022, 120], 'tv5' : [100022, 120], 'tv6' : [100022, 120], 'máquina de café': [13323, 223334]}\n",
    "\n",
    "vendas_produtos_df = pd.DataFrame.from_dict(vendas_produtos, orient='index')\n",
    "display(vendas_produtos_df)\n",
    "\n",
    "# Renomeando Colunas\n",
    "\n",
    "vendas_produtos_df.columns = ['vendas 2019', 'vendas 2020']\n",
    "display(vendas_produtos_df)\n",
    "\n",
    "\n",
    "vendas_produtos_df.to_csv('vendas produtos.csv')\n"
   ]
  }
 ],
 "metadata": {
  "kernelspec": {
   "display_name": "Python 3.10.5 64-bit",
   "language": "python",
   "name": "python3"
  },
  "language_info": {
   "codemirror_mode": {
    "name": "ipython",
    "version": 3
   },
   "file_extension": ".py",
   "mimetype": "text/x-python",
   "name": "python",
   "nbconvert_exporter": "python",
   "pygments_lexer": "ipython3",
   "version": "3.10.5"
  },
  "orig_nbformat": 4,
  "vscode": {
   "interpreter": {
    "hash": "3adffc14717c77f806e1f7b1b4a3821d5acdcf53694294b2e976d830ba088ed7"
   }
  }
 },
 "nbformat": 4,
 "nbformat_minor": 2
}
